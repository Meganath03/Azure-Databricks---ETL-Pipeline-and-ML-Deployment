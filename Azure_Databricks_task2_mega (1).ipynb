{
 "cells": [
  {
   "cell_type": "code",
   "execution_count": 0,
   "metadata": {
    "application/vnd.databricks.v1+cell": {
     "cellMetadata": {
      "byteLimit": 2048000,
      "rowLimit": 10000
     },
     "inputWidgets": {},
     "nuid": "cfc4caf8-bae2-4b51-8934-4485097b7c06",
     "showTitle": false,
     "tableResultSettingsMap": {},
     "title": ""
    }
   },
   "outputs": [
    {
     "output_type": "execute_result",
     "data": {
      "text/plain": [
       "True"
      ]
     },
     "execution_count": 14,
     "metadata": {},
     "output_type": "execute_result"
    }
   ],
   "source": [
    "storage_account_name = \"mega2003storage\"\n",
    "container_name = \"megacontainer1\"\n",
    "sas_token = \"sv=2022-11-02&ss=bfqt&srt=sco&sp=rwdlacupiytfx&se=2024-12-08T21:33:57Z&st=2024-12-08T13:33:57Z&spr=https&sig=ypRx6ESU6fE9kYORkJ10AGKc7giY6w4uNBkGRuHOA5w%3D\"\n",
    "dbutils.fs.mount(\n",
    "    source = f\"wasbs://{container_name}@{storage_account_name}.blob.core.windows.net/\",\n",
    "    mount_point = \"/mnt/megacontainer1\",  \n",
    "    extra_configs = {f\"fs.azure.sas.{container_name}.{storage_account_name}.blob.core.windows.net\": sas_token}\n",
    ")\n"
   ]
  },
  {
   "cell_type": "code",
   "execution_count": 0,
   "metadata": {
    "application/vnd.databricks.v1+cell": {
     "cellMetadata": {
      "byteLimit": 2048000,
      "rowLimit": 10000
     },
     "inputWidgets": {},
     "nuid": "0b75e658-dace-45fe-a637-b911faefa82a",
     "showTitle": false,
     "tableResultSettingsMap": {},
     "title": ""
    }
   },
   "outputs": [
    {
     "output_type": "stream",
     "name": "stdout",
     "output_type": "stream",
     "text": [
      "+---+------+------+--------+------+---------+-----------+\n|age|   sex|   bmi|children|smoker|   region|    charges|\n+---+------+------+--------+------+---------+-----------+\n| 19|female|  27.9|       0|   yes|southwest|  16884.924|\n| 18|  male| 33.77|       1|    no|southeast|  1725.5523|\n| 28|  male|  33.0|       3|    no|southeast|   4449.462|\n| 33|  male|22.705|       0|    no|northwest|21984.47061|\n| 32|  male| 28.88|       0|    no|northwest|  3866.8552|\n| 31|female| 25.74|       0|    no|southeast|  3756.6216|\n| 46|female| 33.44|       1|    no|southeast|  8240.5896|\n| 37|female| 27.74|       3|    no|northwest|  7281.5056|\n| 37|  male| 29.83|       2|    no|northeast|  6406.4107|\n| 60|female| 25.84|       0|    no|northwest|28923.13692|\n| 25|  male| 26.22|       0|    no|northeast|  2721.3208|\n| 62|female| 26.29|       0|   yes|southeast| 27808.7251|\n| 23|  male|  34.4|       0|    no|southwest|   1826.843|\n| 56|female| 39.82|       0|    no|southeast| 11090.7178|\n| 27|  male| 42.13|       0|   yes|southeast| 39611.7577|\n| 19|  male|  24.6|       1|    no|southwest|   1837.237|\n| 52|female| 30.78|       1|    no|northeast| 10797.3362|\n| 23|  male|23.845|       0|    no|northeast| 2395.17155|\n| 56|  male|  40.3|       0|    no|southwest|  10602.385|\n| 30|  male|  35.3|       0|   yes|southwest|  36837.467|\n+---+------+------+--------+------+---------+-----------+\nonly showing top 20 rows\n\n"
     ]
    }
   ],
   "source": [
    "file_path = \"/mnt/megacontainer1/insurance.csv\"\n",
    "insurance_df = spark.read.csv(file_path, header=True, inferSchema=True)\n",
    "insurance_df.show()\n"
   ]
  },
  {
   "cell_type": "code",
   "execution_count": 0,
   "metadata": {
    "application/vnd.databricks.v1+cell": {
     "cellMetadata": {
      "byteLimit": 2048000,
      "rowLimit": 10000
     },
     "inputWidgets": {},
     "nuid": "20829865-03ef-482a-ba1f-e091bfd99be3",
     "showTitle": false,
     "tableResultSettingsMap": {},
     "title": ""
    }
   },
   "outputs": [
    {
     "output_type": "stream",
     "name": "stdout",
     "output_type": "stream",
     "text": [
      "root\n |-- age: integer (nullable = true)\n |-- sex: string (nullable = true)\n |-- bmi: double (nullable = true)\n |-- children: integer (nullable = true)\n |-- smoker: string (nullable = true)\n |-- region: string (nullable = true)\n |-- charges: double (nullable = true)\n\n"
     ]
    }
   ],
   "source": [
    "insurance_df.printSchema()\n"
   ]
  },
  {
   "cell_type": "code",
   "execution_count": 0,
   "metadata": {
    "application/vnd.databricks.v1+cell": {
     "cellMetadata": {
      "byteLimit": 2048000,
      "rowLimit": 10000
     },
     "inputWidgets": {},
     "nuid": "ee70587c-d4ec-4fd3-9df8-0d6fe4f63008",
     "showTitle": false,
     "tableResultSettingsMap": {},
     "title": ""
    }
   },
   "outputs": [
    {
     "output_type": "stream",
     "name": "stdout",
     "output_type": "stream",
     "text": [
      "+-------+------------------+------+------------------+------------------+------+---------+------------------+\n|summary|               age|   sex|               bmi|          children|smoker|   region|           charges|\n+-------+------------------+------+------------------+------------------+------+---------+------------------+\n|  count|              1338|  1338|              1338|              1338|  1338|     1338|              1338|\n|   mean| 39.20702541106129|  NULL|30.663396860986538|   1.0949177877429|  NULL|     NULL|13270.422265141257|\n| stddev|14.049960379216172|  NULL| 6.098186911679017|1.2054927397819095|  NULL|     NULL|12110.011236693996|\n|    min|                18|female|             15.96|                 0|    no|northeast|         1121.8739|\n|    max|                64|  male|             53.13|                 5|   yes|southwest|       63770.42801|\n+-------+------------------+------+------------------+------------------+------+---------+------------------+\n\n"
     ]
    }
   ],
   "source": [
    "insurance_df.describe().show()\n",
    "\n"
   ]
  },
  {
   "cell_type": "code",
   "execution_count": 0,
   "metadata": {
    "application/vnd.databricks.v1+cell": {
     "cellMetadata": {
      "byteLimit": 2048000,
      "rowLimit": 10000
     },
     "inputWidgets": {},
     "nuid": "c5a4d441-6623-463d-bd2d-2c939a06af70",
     "showTitle": false,
     "tableResultSettingsMap": {},
     "title": ""
    }
   },
   "outputs": [],
   "source": [
    "insurance_df = insurance_df.dropna()\n"
   ]
  },
  {
   "cell_type": "code",
   "execution_count": 0,
   "metadata": {
    "application/vnd.databricks.v1+cell": {
     "cellMetadata": {
      "byteLimit": 2048000,
      "rowLimit": 10000
     },
     "inputWidgets": {},
     "nuid": "999179b9-6dbc-4d6a-8752-6005bfe584bc",
     "showTitle": false,
     "tableResultSettingsMap": {},
     "title": ""
    }
   },
   "outputs": [
    {
     "output_type": "stream",
     "name": "stdout",
     "output_type": "stream",
     "text": [
      "+---+---+---+--------+------+------+-------+\n|age|sex|bmi|children|smoker|region|charges|\n+---+---+---+--------+------+------+-------+\n|  0|  0|  0|       0|     0|     0|      0|\n+---+---+---+--------+------+------+-------+\n\n"
     ]
    }
   ],
   "source": [
    "from pyspark.sql.functions import col, sum as _sum\n",
    "null_counts = insurance_df.select([(col(c).isNull().cast(\"int\")).alias(c) for c in insurance_df.columns])\n",
    "null_counts_agg = null_counts.agg(*[ _sum(col(c)).alias(c) for c in null_counts.columns])\n",
    "null_counts_agg.show()"
   ]
  },
  {
   "cell_type": "code",
   "execution_count": 0,
   "metadata": {
    "application/vnd.databricks.v1+cell": {
     "cellMetadata": {
      "byteLimit": 2048000,
      "rowLimit": 10000
     },
     "inputWidgets": {},
     "nuid": "268776a1-54dc-410c-bbea-e4af538391bc",
     "showTitle": false,
     "tableResultSettingsMap": {},
     "title": ""
    }
   },
   "outputs": [],
   "source": [
    "from pyspark.sql.functions import mean\n",
    "for column in insurance_df.columns:\n",
    "    if dict(insurance_df.dtypes)[column] in ['int', 'double', 'float']:\n",
    "        mean_value = insurance_df.select(mean(col(column))).first()[0]\n",
    "        insurance_df = insurance_df.fillna({column: mean_value})\n"
   ]
  },
  {
   "cell_type": "code",
   "execution_count": 0,
   "metadata": {
    "application/vnd.databricks.v1+cell": {
     "cellMetadata": {
      "byteLimit": 2048000,
      "rowLimit": 10000
     },
     "inputWidgets": {},
     "nuid": "47e1e99b-aa43-4499-ad70-40ccdd692224",
     "showTitle": false,
     "tableResultSettingsMap": {},
     "title": ""
    }
   },
   "outputs": [],
   "source": [
    "from pyspark.sql.functions import mean\n",
    "\n",
    "for column in insurance_df.columns:\n",
    "    if dict(insurance_df.dtypes)[column] in ['int', 'double', 'float']:\n",
    "        mean_value = insurance_df.select(mean(col(column))).first()[0]\n",
    "        if mean_value is not None: \n",
    "            insurance_df = insurance_df.fillna({column: mean_value})\n",
    "        else:\n",
    "            insurance_df = insurance_df.fillna({column: 0})\n"
   ]
  },
  {
   "cell_type": "code",
   "execution_count": 0,
   "metadata": {
    "application/vnd.databricks.v1+cell": {
     "cellMetadata": {
      "byteLimit": 2048000,
      "rowLimit": 10000
     },
     "inputWidgets": {},
     "nuid": "2aaeead9-72b1-4ced-9566-8e7d7658f1a3",
     "showTitle": false,
     "tableResultSettingsMap": {},
     "title": ""
    }
   },
   "outputs": [
    {
     "output_type": "stream",
     "name": "stdout",
     "output_type": "stream",
     "text": [
      "+-------+------------------+------+------------------+------------------+------+---------+------------------+\n|summary|               age|   sex|               bmi|          children|smoker|   region|           charges|\n+-------+------------------+------+------------------+------------------+------+---------+------------------+\n|  count|              1338|  1338|              1338|              1338|  1338|     1338|              1338|\n|   mean| 39.20702541106129|  NULL|30.663396860986538|   1.0949177877429|  NULL|     NULL|13270.422265141257|\n| stddev|14.049960379216172|  NULL| 6.098186911679017|1.2054927397819095|  NULL|     NULL|12110.011236693996|\n|    min|                18|female|             15.96|                 0|    no|northeast|         1121.8739|\n|    max|                64|  male|             53.13|                 5|   yes|southwest|       63770.42801|\n+-------+------------------+------+------------------+------------------+------+---------+------------------+\n\n+------+-----------------+\n|smoker|     avg(charges)|\n+------+-----------------+\n|    no|8434.268297856199|\n|   yes|32050.23183153285|\n+------+-----------------+\n\n+------+------------------+\n|   sex|      avg(charges)|\n+------+------------------+\n|female| 12569.57884383534|\n|  male|13956.751177721886|\n+------+------------------+\n\n"
     ]
    }
   ],
   "source": [
    "insurance_df.describe().show()\n",
    "insurance_df.groupBy(\"smoker\").mean(\"charges\").show()\n",
    "insurance_df.groupBy(\"sex\").mean(\"charges\").show()\n"
   ]
  },
  {
   "cell_type": "code",
   "execution_count": 0,
   "metadata": {
    "application/vnd.databricks.v1+cell": {
     "cellMetadata": {
      "byteLimit": 2048000,
      "rowLimit": 10000
     },
     "inputWidgets": {},
     "nuid": "96b995c1-58d3-48bd-9011-dfbb1047ce9f",
     "showTitle": false,
     "tableResultSettingsMap": {},
     "title": ""
    }
   },
   "outputs": [
    {
     "output_type": "display_data",
     "data": {
      "application/vnd.jupyter.widget-view+json": {
       "model_id": "4831dca9d13b401f9fc28872cf09aa4b",
       "version_major": 2,
       "version_minor": 0
      },
      "text/plain": [
       "Downloading artifacts:   0%|          | 0/30 [00:00<?, ?it/s]"
      ]
     },
     "metadata": {},
     "output_type": "display_data"
    },
    {
     "output_type": "display_data",
     "data": {
      "application/vnd.jupyter.widget-view+json": {
       "model_id": "85989fd0f0bd4fc482bbd7154d69e626",
       "version_major": 2,
       "version_minor": 0
      },
      "text/plain": [
       "Uploading artifacts:   0%|          | 0/4 [00:00<?, ?it/s]"
      ]
     },
     "metadata": {},
     "output_type": "display_data"
    }
   ],
   "source": [
    "from pyspark.ml.feature import OneHotEncoder, StringIndexer, VectorAssembler\n",
    "from pyspark.ml import Pipeline\n",
    "\n",
    "indexer = StringIndexer(inputCols=[\"sex\", \"smoker\", \"region\"], outputCols=[\"sex_index\", \"smoker_index\", \"region_index\"])\n",
    "encoder = OneHotEncoder(inputCols=[\"sex_index\", \"smoker_index\", \"region_index\"], outputCols=[\"sex_vec\", \"smoker_vec\", \"region_vec\"])\n",
    "assembler = VectorAssembler(inputCols=[\"age\", \"bmi\", \"children\", \"sex_vec\", \"smoker_vec\", \"region_vec\"], outputCol=\"features\")\n",
    "pipeline = Pipeline(stages=[indexer, encoder, assembler])\n",
    "insurance_preprocessed = pipeline.fit(insurance_df).transform(insurance_df)\n"
   ]
  },
  {
   "cell_type": "code",
   "execution_count": 0,
   "metadata": {
    "application/vnd.databricks.v1+cell": {
     "cellMetadata": {
      "byteLimit": 2048000,
      "rowLimit": 10000
     },
     "inputWidgets": {},
     "nuid": "193f5865-c564-43af-8bc1-03cfdbe4d3c3",
     "showTitle": false,
     "tableResultSettingsMap": {},
     "title": ""
    }
   },
   "outputs": [],
   "source": [
    "from pyspark.sql import functions as F\n",
    "train_data, test_data = insurance_preprocessed.randomSplit([0.8, 0.2], seed=42)"
   ]
  },
  {
   "cell_type": "code",
   "execution_count": 0,
   "metadata": {
    "application/vnd.databricks.v1+cell": {
     "cellMetadata": {
      "byteLimit": 2048000,
      "rowLimit": 10000
     },
     "inputWidgets": {},
     "nuid": "5e6446d8-f9c8-434f-824b-39e15bcd8fac",
     "showTitle": false,
     "tableResultSettingsMap": {},
     "title": ""
    }
   },
   "outputs": [
    {
     "output_type": "display_data",
     "data": {
      "application/vnd.jupyter.widget-view+json": {
       "model_id": "8a3739564a9a4d8b96efaf384bd30ed4",
       "version_major": 2,
       "version_minor": 0
      },
      "text/plain": [
       "Downloading artifacts:   0%|          | 0/15 [00:00<?, ?it/s]"
      ]
     },
     "metadata": {},
     "output_type": "display_data"
    },
    {
     "output_type": "display_data",
     "data": {
      "application/vnd.jupyter.widget-view+json": {
       "model_id": "0a7045ae34ec4ea0a3b7876a0dfb6ae8",
       "version_major": 2,
       "version_minor": 0
      },
      "text/plain": [
       "Uploading artifacts:   0%|          | 0/4 [00:00<?, ?it/s]"
      ]
     },
     "metadata": {},
     "output_type": "display_data"
    }
   ],
   "source": [
    "from pyspark.ml.regression import LinearRegression\n",
    "lr = LinearRegression(featuresCol=\"features\", labelCol=\"charges\")\n",
    "lr_model = lr.fit(train_data)\n"
   ]
  },
  {
   "cell_type": "code",
   "execution_count": 0,
   "metadata": {
    "application/vnd.databricks.v1+cell": {
     "cellMetadata": {
      "byteLimit": 2048000,
      "rowLimit": 10000
     },
     "inputWidgets": {},
     "nuid": "77dcd9aa-fc8d-4a01-8300-77e3eec3a49f",
     "showTitle": false,
     "tableResultSettingsMap": {},
     "title": ""
    }
   },
   "outputs": [
    {
     "output_type": "stream",
     "name": "stdout",
     "output_type": "stream",
     "text": [
      "+-----------+-------------------+\n|    charges|         prediction|\n+-----------+-------------------+\n|  2201.0971|  308.0785935124077|\n| 18223.4512| 26033.038976080497|\n|7323.734819| 2741.4005389676313|\n|  1622.1885| 2385.8281368435764|\n| 2211.13075|  5058.635876565404|\n|  1631.6683|  4832.197332264137|\n| 2217.46915|  6694.331408987364|\n|  1702.4553|-248.39998337383258|\n| 1708.92575| 1421.3725393069162|\n|  2304.0022| 1354.6579905880844|\n| 17178.6824| 25918.614410103466|\n|   1712.227|  2273.297295776685|\n|  1720.3537|  2209.222936208973|\n| 33732.6867| 26959.706039246157|\n|    1727.54| 4063.7286166084305|\n|   1727.785|-1943.7679331929012|\n|   1737.376|  531.2976750771668|\n| 2730.10785| 6914.7171942238065|\n| 1632.03625|  979.0004407465094|\n|22493.65964|  2781.594071963278|\n+-----------+-------------------+\nonly showing top 20 rows\n\n"
     ]
    }
   ],
   "source": [
    "predictions = lr_model.transform(test_data)\n",
    "predictions.select(\"charges\", \"prediction\").show()\n"
   ]
  },
  {
   "cell_type": "code",
   "execution_count": 0,
   "metadata": {
    "application/vnd.databricks.v1+cell": {
     "cellMetadata": {
      "byteLimit": 2048000,
      "rowLimit": 10000
     },
     "inputWidgets": {},
     "nuid": "a91eac2f-6282-450a-9cd5-538beb31c6c4",
     "showTitle": false,
     "tableResultSettingsMap": {},
     "title": ""
    }
   },
   "outputs": [
    {
     "output_type": "stream",
     "name": "stdout",
     "output_type": "stream",
     "text": [
      "Root Mean Squared Error (RMSE): 5660.558250981995\nR^2: 0.7955176463005217\n"
     ]
    }
   ],
   "source": [
    "from pyspark.ml.evaluation import RegressionEvaluator\n",
    "evaluator = RegressionEvaluator(labelCol=\"charges\", predictionCol=\"prediction\", metricName=\"rmse\")\n",
    "rmse = evaluator.evaluate(predictions)\n",
    "r2 = evaluator.evaluate(predictions, {evaluator.metricName: \"r2\"})\n",
    "print(f\"Root Mean Squared Error (RMSE): {rmse}\")\n",
    "print(f\"R^2: {r2}\")\n"
   ]
  },
  {
   "cell_type": "code",
   "execution_count": 0,
   "metadata": {
    "application/vnd.databricks.v1+cell": {
     "cellMetadata": {
      "byteLimit": 2048000,
      "rowLimit": 10000
     },
     "inputWidgets": {},
     "nuid": "fe9d0e3e-37a8-4799-8a99-f30f2ec59035",
     "showTitle": false,
     "tableResultSettingsMap": {},
     "title": ""
    }
   },
   "outputs": [
    {
     "output_type": "stream",
     "name": "stdout",
     "output_type": "stream",
     "text": [
      "Mean Absolute Error (MAE): 3960.005525917074\n"
     ]
    }
   ],
   "source": [
    "mae = evaluator.evaluate(predictions, {evaluator.metricName: \"mae\"})\n",
    "print(f\"Mean Absolute Error (MAE): {mae}\")\n"
   ]
  },
  {
   "cell_type": "code",
   "execution_count": 0,
   "metadata": {
    "application/vnd.databricks.v1+cell": {
     "cellMetadata": {
      "byteLimit": 2048000,
      "rowLimit": 10000
     },
     "inputWidgets": {},
     "nuid": "829336cb-d8ba-496b-b819-4b5266bb0ced",
     "showTitle": false,
     "tableResultSettingsMap": {},
     "title": ""
    }
   },
   "outputs": [
    {
     "output_type": "stream",
     "name": "stdout",
     "output_type": "stream",
     "text": [
      "+-------+-------------------+\n|summary|          residuals|\n+-------+-------------------+\n|  count|                230|\n|   mean|-181.90409400665038|\n| stddev|  5669.974176858363|\n|    min| -10351.14993283867|\n|    max|  30453.47208040627|\n+-------+-------------------+\n\n"
     ]
    }
   ],
   "source": [
    "residuals = predictions.withColumn(\"residuals\", F.col(\"charges\") - F.col(\"prediction\"))\n",
    "residuals.select(\"residuals\").describe().show()\n"
   ]
  },
  {
   "cell_type": "code",
   "execution_count": 0,
   "metadata": {
    "application/vnd.databricks.v1+cell": {
     "cellMetadata": {
      "byteLimit": 2048000,
      "rowLimit": 10000
     },
     "inputWidgets": {},
     "nuid": "8e3febcc-7bc2-4424-bd84-9592963d6c6a",
     "showTitle": false,
     "tableResultSettingsMap": {},
     "title": ""
    }
   },
   "outputs": [
    {
     "output_type": "execute_result",
     "data": {
      "text/plain": [
       "True"
      ]
     },
     "execution_count": 56,
     "metadata": {},
     "output_type": "execute_result"
    }
   ],
   "source": [
    "dbutils.fs.unmount(\"/mnt/megacontainer1\")\n"
   ]
  },
  {
   "cell_type": "code",
   "execution_count": 0,
   "metadata": {
    "application/vnd.databricks.v1+cell": {
     "cellMetadata": {
      "byteLimit": 2048000,
      "rowLimit": 10000
     },
     "inputWidgets": {},
     "nuid": "3bd92f35-15da-42c4-bc06-75063e64208a",
     "showTitle": false,
     "tableResultSettingsMap": {},
     "title": ""
    }
   },
   "outputs": [
    {
     "output_type": "execute_result",
     "data": {
      "text/plain": [
       "True"
      ]
     },
     "execution_count": 57,
     "metadata": {},
     "output_type": "execute_result"
    }
   ],
   "source": [
    "dbutils.fs.mount(\n",
    "    source = f\"wasbs://{container_name}@{storage_account_name}.blob.core.windows.net/\",\n",
    "    mount_point = \"/mnt/megacontainer1\",  \n",
    "    extra_configs = {f\"fs.azure.sas.{container_name}.{storage_account_name}.blob.core.windows.net\": sas_token}\n",
    ")\n"
   ]
  }
 ],
 "metadata": {
  "application/vnd.databricks.v1+notebook": {
   "computePreferences": null,
   "dashboards": [],
   "environmentMetadata": {
    "base_environment": "",
    "client": "1"
   },
   "language": "python",
   "notebookMetadata": {
    "pythonIndentUnit": 4
   },
   "notebookName": "Azure_Databricks_task2_mega",
   "widgets": {}
  },
  "language_info": {
   "name": "python"
  }
 },
 "nbformat": 4,
 "nbformat_minor": 0
}